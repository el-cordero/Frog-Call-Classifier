{
 "cells": [
  {
   "cell_type": "code",
   "execution_count": null,
   "metadata": {},
   "outputs": [],
   "source": [
    "# Import Packages\n",
    "import os\n",
    "import librosa\n",
    "import librosa.display\n",
    "import numpy as np\n",
    "import pandas as pd\n",
    "\n",
    "os.environ[\"TF_ENABLE_MLIR\"] = \"1\"\n",
    "os.environ[\"TF_GPU_THREAD_MODE\"] = \"gpu_private\"\n",
    "os.environ[\"TF_USE_LEGACY_GPU_KERNELS\"] = \"1\"\n",
    "\n",
    "import subprocess\n",
    "import tensorflow as tf\n",
    "from tensorflow.keras import layers, models\n",
    "from tensorflow.keras.optimizers import Adam\n",
    "from tensorflow.keras.callbacks import EarlyStopping\n",
    "\n",
    "import matplotlib.pyplot as plt"
   ]
  },
  {
   "cell_type": "code",
   "execution_count": null,
   "metadata": {},
   "outputs": [
    {
     "name": "stdout",
     "output_type": "stream",
     "text": [
      "Graphics/Displays:\n",
      "\n",
      "    Apple M4 Max:\n",
      "\n",
      "      Chipset Model: Apple M4 Max\n",
      "      Type: GPU\n",
      "      Bus: Built-In\n",
      "      Total Number of Cores: 40\n",
      "      Vendor: Apple (0x106b)\n",
      "      Metal Support: Metal 3\n",
      "      Displays:\n",
      "        LS34A650U:\n",
      "          Resolution: 3440 x 1440 (UWQHD - Ultra-Wide Quad HD)\n",
      "          UI Looks like: 3440 x 1440 @ 100.00Hz\n",
      "          Main Display: Yes\n",
      "          Mirror: Off\n",
      "          Online: Yes\n",
      "          Rotation: Supported\n",
      "\n"
     ]
    },
    {
     "data": {
      "text/plain": [
       "CompletedProcess(args=['system_profiler', 'SPDisplaysDataType'], returncode=0)"
      ]
     },
     "execution_count": 81,
     "metadata": {},
     "output_type": "execute_result"
    }
   ],
   "source": [
    "# Review GPU/CPU\n",
    "subprocess.run([\"system_profiler\", \"SPDisplaysDataType\"])"
   ]
  },
  {
   "cell_type": "code",
   "execution_count": null,
   "metadata": {},
   "outputs": [],
   "source": [
    "# Hard-coded parameters\n",
    "# This is the best combination of parameters to get the spectrograms to appear properly\n",
    "SAMPLE_RATE = 16000  # 16kHz sampling rate\n",
    "AUDIO_LENGTH = 3     # 3 seconds max\n",
    "F_MIN, F_MAX = 50, 8000\n",
    "SPEC_HEIGHT, SPEC_WIDTH = 128, 100  # Height (mel bands) and fixed width for 5 seconds\n",
    "# SHAPE_HEIGHT, SHAPE_WIDTH = 257, 1491"
   ]
  },
  {
   "cell_type": "code",
   "execution_count": null,
   "metadata": {},
   "outputs": [],
   "source": [
    "# A preprocess function for converting audio into tensorflow format\n",
    "def preprocess(file_path, label):\n",
    "    # Handle both tensor and string inputs\n",
    "    if isinstance(file_path, tf.Tensor):\n",
    "        file_path = file_path.numpy().decode('utf-8')\n",
    "\n",
    "    # Load audio file (16 kHz, mono)\n",
    "    wav, sr = librosa.load(file_path, sr=SAMPLE_RATE)\n",
    "\n",
    "    # Ensure 5 seconds (pad if shorter, trim if longer)\n",
    "    target_length = SAMPLE_RATE * AUDIO_LENGTH\n",
    "    wav = np.pad(wav[:target_length], (0, max(0, target_length - len(wav))), mode=\"constant\")\n",
    "\n",
    "    # Compute Mel spectrogram (50-800 Hz)\n",
    "    mel_spec = librosa.feature.melspectrogram(\n",
    "        y=wav, sr=sr, n_mels=SPEC_HEIGHT, fmin=F_MIN, fmax=F_MAX, hop_length=512\n",
    "    )\n",
    "\n",
    "    # Convert power to dB (ref=1.0 ensures negative dB values)\n",
    "    mel_spec_db = librosa.power_to_db(mel_spec, ref=1.0)\n",
    "    \n",
    "    # Zero pad to ensure uniform time length (500 frames)\n",
    "    pad_width = [[0, 0], [0, max(0, SPEC_WIDTH - mel_spec_db.shape[1])]]\n",
    "    mel_spec_db = np.pad(mel_spec_db, pad_width, mode='constant', constant_values=0)\n",
    "\n",
    "    # Ensure a fixed size using resizing\n",
    "    mel_spec_db = np.expand_dims(mel_spec_db, axis=-1)  # Add channel dim\n",
    "    mel_spec_db = tf.image.resize(mel_spec_db, (SPEC_HEIGHT, SPEC_WIDTH))  # Resize\n",
    "    mel_spec_db.set_shape((SPEC_HEIGHT, SPEC_WIDTH, 1))\n",
    "\n",
    "    # Convert to TensorFlow tensor and normalize (excluding padded silence)\n",
    "    mel_tensor = tf.convert_to_tensor(mel_spec_db, dtype=tf.float32)\n",
    "\n",
    "    # Normalize only non-padded values\n",
    "    non_silent_mask = tf.not_equal(mel_tensor, -80.0)\n",
    "    valid_values = tf.boolean_mask(mel_tensor, non_silent_mask)\n",
    "    mean, std = tf.reduce_mean(valid_values), tf.math.reduce_std(valid_values)\n",
    "\n",
    "    # Apply normalization safely\n",
    "    mel_tensor = (mel_tensor - mean) / (std + 1e-6)\n",
    "\n",
    "    return mel_tensor, label\n"
   ]
  },
  {
   "cell_type": "code",
   "execution_count": 86,
   "metadata": {},
   "outputs": [],
   "source": [
    "# Apply function within a TensorFlow Dataset\n",
    "def load_and_preprocess(file_path, label):\n",
    "    spectrogram, label = tf.py_function(preprocess, [file_path, label], [tf.float32, tf.int32])\n",
    "    spectrogram.set_shape((SPEC_HEIGHT, SPEC_WIDTH, 1))  # Ensure fixed shape\n",
    "    return spectrogram, label"
   ]
  },
  {
   "cell_type": "code",
   "execution_count": 87,
   "metadata": {},
   "outputs": [
    {
     "name": "stdout",
     "output_type": "stream",
     "text": [
      "Positive samples: 217\n",
      "Negative samples: 593\n"
     ]
    },
    {
     "name": "stderr",
     "output_type": "stream",
     "text": [
      "2025-02-24 12:05:26.608850: W tensorflow/core/framework/local_rendezvous.cc:404] Local rendezvous is aborting with status: OUT_OF_RANGE: End of sequence\n",
      "2025-02-24 12:05:26.650163: W tensorflow/core/framework/local_rendezvous.cc:404] Local rendezvous is aborting with status: OUT_OF_RANGE: End of sequence\n"
     ]
    }
   ],
   "source": [
    "wd = os.getcwd().replace(\"/_scripts\",\"\")\n",
    "POS = os.path.join(wd,'_data','Example', 'Parsed_Capuchinbird_Clips', '*.wav')\n",
    "NEG = os.path.join(wd,'_data','Example','Parsed_Not_Capuchinbird_Clips', '*.wav')\n",
    "\n",
    "# Load file paths\n",
    "pos_files = tf.data.Dataset.list_files(POS, shuffle=False)\n",
    "neg_files = tf.data.Dataset.list_files(NEG, shuffle=False)\n",
    "\n",
    "# Check if files are loaded\n",
    "print(f\"Positive samples: {len(list(pos_files))}\")\n",
    "print(f\"Negative samples: {len(list(neg_files))}\")"
   ]
  },
  {
   "cell_type": "code",
   "execution_count": 88,
   "metadata": {},
   "outputs": [
    {
     "name": "stdout",
     "output_type": "stream",
     "text": [
      "Minimum duration: 2.00 seconds\n",
      "Maximum duration: 5.00 seconds\n",
      "Average duration: 3.38 seconds\n"
     ]
    },
    {
     "name": "stderr",
     "output_type": "stream",
     "text": [
      "2025-02-24 12:05:27.082587: W tensorflow/core/framework/local_rendezvous.cc:404] Local rendezvous is aborting with status: OUT_OF_RANGE: End of sequence\n"
     ]
    }
   ],
   "source": [
    "# Function to load each file and get its duration\n",
    "def get_audio_duration(file_path):\n",
    "    # Convert tensor to string for file path\n",
    "    file_path = file_path.numpy().decode('utf-8')\n",
    "    # Load audio and calculate duration\n",
    "    wav, sr = librosa.load(file_path, sr=None)\n",
    "    duration = len(wav) / sr\n",
    "    return duration\n",
    "\n",
    "# Wrap in tf.py_function to work with tf.data.Dataset\n",
    "def tf_get_audio_duration(file_path):\n",
    "    return tf.py_function(get_audio_duration, [file_path], tf.float32)\n",
    "\n",
    "# Apply function to dataset and collect durations\n",
    "durations = pos_files.map(tf_get_audio_duration)\n",
    "\n",
    "# Convert dataset to a list of durations\n",
    "durations_list = list(durations.as_numpy_iterator())\n",
    "\n",
    "# Calculate min, max, and average duration\n",
    "min_duration = min(durations_list)\n",
    "max_duration = max(durations_list)\n",
    "avg_duration = sum(durations_list) / len(durations_list)\n",
    "\n",
    "# Display results\n",
    "print(f\"Minimum duration: {min_duration:.2f} seconds\")\n",
    "print(f\"Maximum duration: {max_duration:.2f} seconds\")\n",
    "print(f\"Average duration: {avg_duration:.2f} seconds\")\n"
   ]
  },
  {
   "cell_type": "code",
   "execution_count": 152,
   "metadata": {},
   "outputs": [
    {
     "data": {
      "image/png": "[encoded data removed]",
      "text/plain": [
       "<Figure size 1200x600 with 1 Axes>"
      ]
     },
     "metadata": {},
     "output_type": "display_data"
    }
   ],
   "source": [
    "def plot_spectrogram(spectrogram, sr=SAMPLE_RATE, filename=\"spectrogram_input.png\"):\n",
    "    plt.figure(figsize=(12, 6))\n",
    "    librosa.display.specshow(spectrogram.numpy().squeeze(), sr=sr, hop_length=512, x_axis='time', y_axis='mel', fmin=50)#, fmax=16000)\n",
    "    # plt.colorbar(format=\"%+2.0f dB\")\n",
    "    # plt.title(\"Mel Spectrogram (50–800 Hz)\")\n",
    "    plt.axis('off')  # Turn off axes completely\n",
    "    plt.tight_layout()\n",
    "    plt.savefig(filename, dpi=300, bbox_inches='tight')\n",
    "    plt.show()\n",
    "\n",
    "# Shuffle to randomize order\n",
    "shuffled_files = pos_files.shuffle(buffer_size=100)\n",
    "file_path = next(iter(shuffled_files)).numpy().decode('utf-8')\n",
    "\n",
    "# Test with one sample\n",
    "mel_spec, _ = preprocess(file_path, 1)\n",
    "filename = os.getcwd().replace(\"/_scripts\",\"/_results/Example/Model/spectrogram_input.png\")\n",
    "plot_spectrogram(mel_spec, filename=filename)\n"
   ]
  },
  {
   "cell_type": "code",
   "execution_count": 90,
   "metadata": {},
   "outputs": [],
   "source": [
    "# Apply preprocessing\n",
    "positives = pos_files.map(lambda x: load_and_preprocess(x, 1))\n",
    "negatives = neg_files.map(lambda x: load_and_preprocess(x, 0))\n",
    "\n",
    "# Combine datasets\n",
    "data = positives.concatenate(negatives)"
   ]
  },
  {
   "cell_type": "code",
   "execution_count": 91,
   "metadata": {},
   "outputs": [],
   "source": [
    "# reshape the data\n",
    "data = data.map(lambda x, y: (x, tf.reshape(y, [-1])))\n"
   ]
  },
  {
   "cell_type": "code",
   "execution_count": 92,
   "metadata": {},
   "outputs": [
    {
     "name": "stderr",
     "output_type": "stream",
     "text": [
      "2025-02-24 12:05:42.847903: W tensorflow/core/framework/local_rendezvous.cc:404] Local rendezvous is aborting with status: OUT_OF_RANGE: End of sequence\n"
     ]
    }
   ],
   "source": [
    "# Split into training (80%) and testing (20%)\n",
    "dataset_size = len(list(data))  # Count dataset size\n",
    "test_size = int(0.2 * dataset_size)  # 20% test\n",
    "train_size = dataset_size - test_size  # 80% train\n",
    "\n",
    "# Take the first 80% as training data\n",
    "train_data = data.take(train_size)\n",
    "\n",
    "# Skip the first 80% and take the remaining 20% as test data\n",
    "test_data = data.skip(train_size)\n",
    "\n",
    "# Shuffle, batch, and prefetch\n",
    "train_data = train_data.shuffle(1000).batch(16, drop_remainder=True).prefetch(tf.data.AUTOTUNE)\n",
    "test_data = test_data.batch(16, drop_remainder=True).prefetch(tf.data.AUTOTUNE)  # No shuffle for test set"
   ]
  },
  {
   "cell_type": "code",
   "execution_count": 93,
   "metadata": {},
   "outputs": [],
   "source": [
    "# Shuffle, batch, and prefetch\n",
    "# data = data.shuffle(1000).batch(16, drop_remainder=True).prefetch(tf.data.AUTOTUNE)"
   ]
  },
  {
   "cell_type": "code",
   "execution_count": 94,
   "metadata": {},
   "outputs": [
    {
     "name": "stderr",
     "output_type": "stream",
     "text": [
      "2025-02-24 12:05:58.363689: W tensorflow/core/framework/local_rendezvous.cc:404] Local rendezvous is aborting with status: OUT_OF_RANGE: End of sequence\n"
     ]
    },
    {
     "name": "stdout",
     "output_type": "stream",
     "text": [
      "Final dataset size: 810\n"
     ]
    },
    {
     "name": "stderr",
     "output_type": "stream",
     "text": [
      "2025-02-24 12:06:10.966947: W tensorflow/core/framework/local_rendezvous.cc:404] Local rendezvous is aborting with status: OUT_OF_RANGE: End of sequence\n"
     ]
    },
    {
     "name": "stdout",
     "output_type": "stream",
     "text": [
      "Training dataset size: 40\n",
      "Testing dataset size: 10\n"
     ]
    },
    {
     "name": "stderr",
     "output_type": "stream",
     "text": [
      "2025-02-24 12:06:27.092288: W tensorflow/core/framework/local_rendezvous.cc:404] Local rendezvous is aborting with status: OUT_OF_RANGE: End of sequence\n"
     ]
    }
   ],
   "source": [
    "dataset_size = sum(1 for _ in data)\n",
    "print(f\"Final dataset size: {dataset_size}\")\n",
    "\n",
    "dataset_size_train = sum(1 for _ in train_data)\n",
    "print(f\"Training dataset size: {dataset_size_train}\")\n",
    "\n",
    "dataset_size_test = sum(1 for _ in test_data)\n",
    "print(f\"Testing dataset size: {dataset_size_test}\")"
   ]
  },
  {
   "cell_type": "code",
   "execution_count": 95,
   "metadata": {},
   "outputs": [
    {
     "name": "stdout",
     "output_type": "stream",
     "text": [
      "Waveform shape: (16, 128, 100, 1)\n",
      "Label shape: (16, 1)\n",
      "Label values: [[0]\n",
      " [1]\n",
      " [0]\n",
      " [0]\n",
      " [1]\n",
      " [1]\n",
      " [0]\n",
      " [0]\n",
      " [0]\n",
      " [0]\n",
      " [1]\n",
      " [1]\n",
      " [0]\n",
      " [0]\n",
      " [0]\n",
      " [1]]\n"
     ]
    },
    {
     "name": "stderr",
     "output_type": "stream",
     "text": [
      "2025-02-24 12:06:40.413464: W tensorflow/core/framework/local_rendezvous.cc:404] Local rendezvous is aborting with status: OUT_OF_RANGE: End of sequence\n"
     ]
    }
   ],
   "source": [
    "for sample_wav, sample_label in train_data.take(1):\n",
    "    print(\"Waveform shape:\", sample_wav.shape) # Expected: (16, 128, 344, 1)\n",
    "    print(\"Label shape:\", sample_label.shape) # Expected: (16,)\n",
    "    print(\"Label values:\", sample_label.numpy())"
   ]
  },
  {
   "cell_type": "code",
   "execution_count": 96,
   "metadata": {},
   "outputs": [
    {
     "data": {
      "text/html": [
       "<pre style=\"white-space:pre;overflow-x:auto;line-height:normal;font-family:Menlo,'DejaVu Sans Mono',consolas,'Courier New',monospace\"><span style=\"font-weight: bold\">Model: \"sequential_2\"</span>\n",
       "</pre>\n"
      ],
      "text/plain": [
       "\u001b[1mModel: \"sequential_2\"\u001b[0m\n"
      ]
     },
     "metadata": {},
     "output_type": "display_data"
    },
    {
     "data": {
      "text/html": [
       "<pre style=\"white-space:pre;overflow-x:auto;line-height:normal;font-family:Menlo,'DejaVu Sans Mono',consolas,'Courier New',monospace\">┏━━━━━━━━━━━━━━━━━━━━━━━━━━━━━━━━━┳━━━━━━━━━━━━━━━━━━━━━━━━┳━━━━━━━━━━━━━━━┓\n",
       "┃<span style=\"font-weight: bold\"> Layer (type)                    </span>┃<span style=\"font-weight: bold\"> Output Shape           </span>┃<span style=\"font-weight: bold\">       Param # </span>┃\n",
       "┡━━━━━━━━━━━━━━━━━━━━━━━━━━━━━━━━━╇━━━━━━━━━━━━━━━━━━━━━━━━╇━━━━━━━━━━━━━━━┩\n",
       "│ conv2d_6 (<span style=\"color: #0087ff; text-decoration-color: #0087ff\">Conv2D</span>)               │ (<span style=\"color: #00d7ff; text-decoration-color: #00d7ff\">None</span>, <span style=\"color: #00af00; text-decoration-color: #00af00\">128</span>, <span style=\"color: #00af00; text-decoration-color: #00af00\">100</span>, <span style=\"color: #00af00; text-decoration-color: #00af00\">32</span>)   │           <span style=\"color: #00af00; text-decoration-color: #00af00\">320</span> │\n",
       "├─────────────────────────────────┼────────────────────────┼───────────────┤\n",
       "│ batch_normalization_6           │ (<span style=\"color: #00d7ff; text-decoration-color: #00d7ff\">None</span>, <span style=\"color: #00af00; text-decoration-color: #00af00\">128</span>, <span style=\"color: #00af00; text-decoration-color: #00af00\">100</span>, <span style=\"color: #00af00; text-decoration-color: #00af00\">32</span>)   │           <span style=\"color: #00af00; text-decoration-color: #00af00\">128</span> │\n",
       "│ (<span style=\"color: #0087ff; text-decoration-color: #0087ff\">BatchNormalization</span>)            │                        │               │\n",
       "├─────────────────────────────────┼────────────────────────┼───────────────┤\n",
       "│ max_pooling2d_6 (<span style=\"color: #0087ff; text-decoration-color: #0087ff\">MaxPooling2D</span>)  │ (<span style=\"color: #00d7ff; text-decoration-color: #00d7ff\">None</span>, <span style=\"color: #00af00; text-decoration-color: #00af00\">64</span>, <span style=\"color: #00af00; text-decoration-color: #00af00\">50</span>, <span style=\"color: #00af00; text-decoration-color: #00af00\">32</span>)     │             <span style=\"color: #00af00; text-decoration-color: #00af00\">0</span> │\n",
       "├─────────────────────────────────┼────────────────────────┼───────────────┤\n",
       "│ conv2d_7 (<span style=\"color: #0087ff; text-decoration-color: #0087ff\">Conv2D</span>)               │ (<span style=\"color: #00d7ff; text-decoration-color: #00d7ff\">None</span>, <span style=\"color: #00af00; text-decoration-color: #00af00\">64</span>, <span style=\"color: #00af00; text-decoration-color: #00af00\">50</span>, <span style=\"color: #00af00; text-decoration-color: #00af00\">64</span>)     │        <span style=\"color: #00af00; text-decoration-color: #00af00\">18,496</span> │\n",
       "├─────────────────────────────────┼────────────────────────┼───────────────┤\n",
       "│ batch_normalization_7           │ (<span style=\"color: #00d7ff; text-decoration-color: #00d7ff\">None</span>, <span style=\"color: #00af00; text-decoration-color: #00af00\">64</span>, <span style=\"color: #00af00; text-decoration-color: #00af00\">50</span>, <span style=\"color: #00af00; text-decoration-color: #00af00\">64</span>)     │           <span style=\"color: #00af00; text-decoration-color: #00af00\">256</span> │\n",
       "│ (<span style=\"color: #0087ff; text-decoration-color: #0087ff\">BatchNormalization</span>)            │                        │               │\n",
       "├─────────────────────────────────┼────────────────────────┼───────────────┤\n",
       "│ max_pooling2d_7 (<span style=\"color: #0087ff; text-decoration-color: #0087ff\">MaxPooling2D</span>)  │ (<span style=\"color: #00d7ff; text-decoration-color: #00d7ff\">None</span>, <span style=\"color: #00af00; text-decoration-color: #00af00\">32</span>, <span style=\"color: #00af00; text-decoration-color: #00af00\">25</span>, <span style=\"color: #00af00; text-decoration-color: #00af00\">64</span>)     │             <span style=\"color: #00af00; text-decoration-color: #00af00\">0</span> │\n",
       "├─────────────────────────────────┼────────────────────────┼───────────────┤\n",
       "│ conv2d_8 (<span style=\"color: #0087ff; text-decoration-color: #0087ff\">Conv2D</span>)               │ (<span style=\"color: #00d7ff; text-decoration-color: #00d7ff\">None</span>, <span style=\"color: #00af00; text-decoration-color: #00af00\">32</span>, <span style=\"color: #00af00; text-decoration-color: #00af00\">25</span>, <span style=\"color: #00af00; text-decoration-color: #00af00\">128</span>)    │        <span style=\"color: #00af00; text-decoration-color: #00af00\">73,856</span> │\n",
       "├─────────────────────────────────┼────────────────────────┼───────────────┤\n",
       "│ batch_normalization_8           │ (<span style=\"color: #00d7ff; text-decoration-color: #00d7ff\">None</span>, <span style=\"color: #00af00; text-decoration-color: #00af00\">32</span>, <span style=\"color: #00af00; text-decoration-color: #00af00\">25</span>, <span style=\"color: #00af00; text-decoration-color: #00af00\">128</span>)    │           <span style=\"color: #00af00; text-decoration-color: #00af00\">512</span> │\n",
       "│ (<span style=\"color: #0087ff; text-decoration-color: #0087ff\">BatchNormalization</span>)            │                        │               │\n",
       "├─────────────────────────────────┼────────────────────────┼───────────────┤\n",
       "│ max_pooling2d_8 (<span style=\"color: #0087ff; text-decoration-color: #0087ff\">MaxPooling2D</span>)  │ (<span style=\"color: #00d7ff; text-decoration-color: #00d7ff\">None</span>, <span style=\"color: #00af00; text-decoration-color: #00af00\">16</span>, <span style=\"color: #00af00; text-decoration-color: #00af00\">12</span>, <span style=\"color: #00af00; text-decoration-color: #00af00\">128</span>)    │             <span style=\"color: #00af00; text-decoration-color: #00af00\">0</span> │\n",
       "├─────────────────────────────────┼────────────────────────┼───────────────┤\n",
       "│ flatten_2 (<span style=\"color: #0087ff; text-decoration-color: #0087ff\">Flatten</span>)             │ (<span style=\"color: #00d7ff; text-decoration-color: #00d7ff\">None</span>, <span style=\"color: #00af00; text-decoration-color: #00af00\">24576</span>)          │             <span style=\"color: #00af00; text-decoration-color: #00af00\">0</span> │\n",
       "├─────────────────────────────────┼────────────────────────┼───────────────┤\n",
       "│ dense_6 (<span style=\"color: #0087ff; text-decoration-color: #0087ff\">Dense</span>)                 │ (<span style=\"color: #00d7ff; text-decoration-color: #00d7ff\">None</span>, <span style=\"color: #00af00; text-decoration-color: #00af00\">256</span>)            │     <span style=\"color: #00af00; text-decoration-color: #00af00\">6,291,712</span> │\n",
       "├─────────────────────────────────┼────────────────────────┼───────────────┤\n",
       "│ dropout_4 (<span style=\"color: #0087ff; text-decoration-color: #0087ff\">Dropout</span>)             │ (<span style=\"color: #00d7ff; text-decoration-color: #00d7ff\">None</span>, <span style=\"color: #00af00; text-decoration-color: #00af00\">256</span>)            │             <span style=\"color: #00af00; text-decoration-color: #00af00\">0</span> │\n",
       "├─────────────────────────────────┼────────────────────────┼───────────────┤\n",
       "│ dense_7 (<span style=\"color: #0087ff; text-decoration-color: #0087ff\">Dense</span>)                 │ (<span style=\"color: #00d7ff; text-decoration-color: #00d7ff\">None</span>, <span style=\"color: #00af00; text-decoration-color: #00af00\">64</span>)             │        <span style=\"color: #00af00; text-decoration-color: #00af00\">16,448</span> │\n",
       "├─────────────────────────────────┼────────────────────────┼───────────────┤\n",
       "│ dropout_5 (<span style=\"color: #0087ff; text-decoration-color: #0087ff\">Dropout</span>)             │ (<span style=\"color: #00d7ff; text-decoration-color: #00d7ff\">None</span>, <span style=\"color: #00af00; text-decoration-color: #00af00\">64</span>)             │             <span style=\"color: #00af00; text-decoration-color: #00af00\">0</span> │\n",
       "├─────────────────────────────────┼────────────────────────┼───────────────┤\n",
       "│ dense_8 (<span style=\"color: #0087ff; text-decoration-color: #0087ff\">Dense</span>)                 │ (<span style=\"color: #00d7ff; text-decoration-color: #00d7ff\">None</span>, <span style=\"color: #00af00; text-decoration-color: #00af00\">1</span>)              │            <span style=\"color: #00af00; text-decoration-color: #00af00\">65</span> │\n",
       "└─────────────────────────────────┴────────────────────────┴───────────────┘\n",
       "</pre>\n"
      ],
      "text/plain": [
       "┏━━━━━━━━━━━━━━━━━━━━━━━━━━━━━━━━━┳━━━━━━━━━━━━━━━━━━━━━━━━┳━━━━━━━━━━━━━━━┓\n",
       "┃\u001b[1m \u001b[0m\u001b[1mLayer (type)                   \u001b[0m\u001b[1m \u001b[0m┃\u001b[1m \u001b[0m\u001b[1mOutput Shape          \u001b[0m\u001b[1m \u001b[0m┃\u001b[1m \u001b[0m\u001b[1m      Param #\u001b[0m\u001b[1m \u001b[0m┃\n",
       "┡━━━━━━━━━━━━━━━━━━━━━━━━━━━━━━━━━╇━━━━━━━━━━━━━━━━━━━━━━━━╇━━━━━━━━━━━━━━━┩\n",
       "│ conv2d_6 (\u001b[38;5;33mConv2D\u001b[0m)               │ (\u001b[38;5;45mNone\u001b[0m, \u001b[38;5;34m128\u001b[0m, \u001b[38;5;34m100\u001b[0m, \u001b[38;5;34m32\u001b[0m)   │           \u001b[38;5;34m320\u001b[0m │\n",
       "├─────────────────────────────────┼────────────────────────┼───────────────┤\n",
       "│ batch_normalization_6           │ (\u001b[38;5;45mNone\u001b[0m, \u001b[38;5;34m128\u001b[0m, \u001b[38;5;34m100\u001b[0m, \u001b[38;5;34m32\u001b[0m)   │           \u001b[38;5;34m128\u001b[0m │\n",
       "│ (\u001b[38;5;33mBatchNormalization\u001b[0m)            │                        │               │\n",
       "├─────────────────────────────────┼────────────────────────┼───────────────┤\n",
       "│ max_pooling2d_6 (\u001b[38;5;33mMaxPooling2D\u001b[0m)  │ (\u001b[38;5;45mNone\u001b[0m, \u001b[38;5;34m64\u001b[0m, \u001b[38;5;34m50\u001b[0m, \u001b[38;5;34m32\u001b[0m)     │             \u001b[38;5;34m0\u001b[0m │\n",
       "├─────────────────────────────────┼────────────────────────┼───────────────┤\n",
       "│ conv2d_7 (\u001b[38;5;33mConv2D\u001b[0m)               │ (\u001b[38;5;45mNone\u001b[0m, \u001b[38;5;34m64\u001b[0m, \u001b[38;5;34m50\u001b[0m, \u001b[38;5;34m64\u001b[0m)     │        \u001b[38;5;34m18,496\u001b[0m │\n",
       "├─────────────────────────────────┼────────────────────────┼───────────────┤\n",
       "│ batch_normalization_7           │ (\u001b[38;5;45mNone\u001b[0m, \u001b[38;5;34m64\u001b[0m, \u001b[38;5;34m50\u001b[0m, \u001b[38;5;34m64\u001b[0m)     │           \u001b[38;5;34m256\u001b[0m │\n",
       "│ (\u001b[38;5;33mBatchNormalization\u001b[0m)            │                        │               │\n",
       "├─────────────────────────────────┼────────────────────────┼───────────────┤\n",
       "│ max_pooling2d_7 (\u001b[38;5;33mMaxPooling2D\u001b[0m)  │ (\u001b[38;5;45mNone\u001b[0m, \u001b[38;5;34m32\u001b[0m, \u001b[38;5;34m25\u001b[0m, \u001b[38;5;34m64\u001b[0m)     │             \u001b[38;5;34m0\u001b[0m │\n",
       "├─────────────────────────────────┼────────────────────────┼───────────────┤\n",
       "│ conv2d_8 (\u001b[38;5;33mConv2D\u001b[0m)               │ (\u001b[38;5;45mNone\u001b[0m, \u001b[38;5;34m32\u001b[0m, \u001b[38;5;34m25\u001b[0m, \u001b[38;5;34m128\u001b[0m)    │        \u001b[38;5;34m73,856\u001b[0m │\n",
       "├─────────────────────────────────┼────────────────────────┼───────────────┤\n",
       "│ batch_normalization_8           │ (\u001b[38;5;45mNone\u001b[0m, \u001b[38;5;34m32\u001b[0m, \u001b[38;5;34m25\u001b[0m, \u001b[38;5;34m128\u001b[0m)    │           \u001b[38;5;34m512\u001b[0m │\n",
       "│ (\u001b[38;5;33mBatchNormalization\u001b[0m)            │                        │               │\n",
       "├─────────────────────────────────┼────────────────────────┼───────────────┤\n",
       "│ max_pooling2d_8 (\u001b[38;5;33mMaxPooling2D\u001b[0m)  │ (\u001b[38;5;45mNone\u001b[0m, \u001b[38;5;34m16\u001b[0m, \u001b[38;5;34m12\u001b[0m, \u001b[38;5;34m128\u001b[0m)    │             \u001b[38;5;34m0\u001b[0m │\n",
       "├─────────────────────────────────┼────────────────────────┼───────────────┤\n",
       "│ flatten_2 (\u001b[38;5;33mFlatten\u001b[0m)             │ (\u001b[38;5;45mNone\u001b[0m, \u001b[38;5;34m24576\u001b[0m)          │             \u001b[38;5;34m0\u001b[0m │\n",
       "├─────────────────────────────────┼────────────────────────┼───────────────┤\n",
       "│ dense_6 (\u001b[38;5;33mDense\u001b[0m)                 │ (\u001b[38;5;45mNone\u001b[0m, \u001b[38;5;34m256\u001b[0m)            │     \u001b[38;5;34m6,291,712\u001b[0m │\n",
       "├─────────────────────────────────┼────────────────────────┼───────────────┤\n",
       "│ dropout_4 (\u001b[38;5;33mDropout\u001b[0m)             │ (\u001b[38;5;45mNone\u001b[0m, \u001b[38;5;34m256\u001b[0m)            │             \u001b[38;5;34m0\u001b[0m │\n",
       "├─────────────────────────────────┼────────────────────────┼───────────────┤\n",
       "│ dense_7 (\u001b[38;5;33mDense\u001b[0m)                 │ (\u001b[38;5;45mNone\u001b[0m, \u001b[38;5;34m64\u001b[0m)             │        \u001b[38;5;34m16,448\u001b[0m │\n",
       "├─────────────────────────────────┼────────────────────────┼───────────────┤\n",
       "│ dropout_5 (\u001b[38;5;33mDropout\u001b[0m)             │ (\u001b[38;5;45mNone\u001b[0m, \u001b[38;5;34m64\u001b[0m)             │             \u001b[38;5;34m0\u001b[0m │\n",
       "├─────────────────────────────────┼────────────────────────┼───────────────┤\n",
       "│ dense_8 (\u001b[38;5;33mDense\u001b[0m)                 │ (\u001b[38;5;45mNone\u001b[0m, \u001b[38;5;34m1\u001b[0m)              │            \u001b[38;5;34m65\u001b[0m │\n",
       "└─────────────────────────────────┴────────────────────────┴───────────────┘\n"
      ]
     },
     "metadata": {},
     "output_type": "display_data"
    },
    {
     "data": {
      "text/html": [
       "<pre style=\"white-space:pre;overflow-x:auto;line-height:normal;font-family:Menlo,'DejaVu Sans Mono',consolas,'Courier New',monospace\"><span style=\"font-weight: bold\"> Total params: </span><span style=\"color: #00af00; text-decoration-color: #00af00\">6,401,793</span> (24.42 MB)\n",
       "</pre>\n"
      ],
      "text/plain": [
       "\u001b[1m Total params: \u001b[0m\u001b[38;5;34m6,401,793\u001b[0m (24.42 MB)\n"
      ]
     },
     "metadata": {},
     "output_type": "display_data"
    },
    {
     "data": {
      "text/html": [
       "<pre style=\"white-space:pre;overflow-x:auto;line-height:normal;font-family:Menlo,'DejaVu Sans Mono',consolas,'Courier New',monospace\"><span style=\"font-weight: bold\"> Trainable params: </span><span style=\"color: #00af00; text-decoration-color: #00af00\">6,401,345</span> (24.42 MB)\n",
       "</pre>\n"
      ],
      "text/plain": [
       "\u001b[1m Trainable params: \u001b[0m\u001b[38;5;34m6,401,345\u001b[0m (24.42 MB)\n"
      ]
     },
     "metadata": {},
     "output_type": "display_data"
    },
    {
     "data": {
      "text/html": [
       "<pre style=\"white-space:pre;overflow-x:auto;line-height:normal;font-family:Menlo,'DejaVu Sans Mono',consolas,'Courier New',monospace\"><span style=\"font-weight: bold\"> Non-trainable params: </span><span style=\"color: #00af00; text-decoration-color: #00af00\">448</span> (1.75 KB)\n",
       "</pre>\n"
      ],
      "text/plain": [
       "\u001b[1m Non-trainable params: \u001b[0m\u001b[38;5;34m448\u001b[0m (1.75 KB)\n"
      ]
     },
     "metadata": {},
     "output_type": "display_data"
    }
   ],
   "source": [
    "# Define CNN Model\n",
    "def build_model():\n",
    "    model = models.Sequential([\n",
    "    # Input layer\n",
    "    layers.Input(shape=(SPEC_HEIGHT, SPEC_WIDTH, 1)),\n",
    "\n",
    "    # Convolutional layers\n",
    "    layers.Conv2D(32, (3, 3), activation='relu', padding='same'),\n",
    "    layers.BatchNormalization(),\n",
    "    layers.MaxPooling2D((2, 2)),\n",
    "\n",
    "    layers.Conv2D(64, (3, 3), activation='relu', padding='same'),\n",
    "    layers.BatchNormalization(),\n",
    "    layers.MaxPooling2D((2, 2)),\n",
    "\n",
    "    layers.Conv2D(128, (3, 3), activation='relu', padding='same'),\n",
    "    layers.BatchNormalization(),\n",
    "    layers.MaxPooling2D((2, 2)),\n",
    "\n",
    "    # Flatten and Dense layers\n",
    "    layers.Flatten(),\n",
    "    layers.Dense(256, activation='relu'),\n",
    "    layers.Dropout(0.5),  # Prevent overfitting\n",
    "    layers.Dense(64, activation='relu'),\n",
    "    layers.Dropout(0.3),\n",
    "\n",
    "    # Output layer\n",
    "    layers.Dense(1, activation='sigmoid')\n",
    "    \n",
    "    ])\n",
    "    model.compile(optimizer=Adam(learning_rate=0.0001), \n",
    "                  loss='binary_crossentropy',\n",
    "                  metrics=['accuracy'])\n",
    "    \n",
    "    return model\n",
    "\n",
    "model = build_model()\n",
    "model.summary()\n"
   ]
  },
  {
   "cell_type": "code",
   "execution_count": 97,
   "metadata": {},
   "outputs": [
    {
     "name": "stdout",
     "output_type": "stream",
     "text": [
      "Model expects: (None, 128, 100, 1)\n"
     ]
    }
   ],
   "source": [
    "print(f\"Model expects: {model.input_shape}\")\n"
   ]
  },
  {
   "cell_type": "code",
   "execution_count": 135,
   "metadata": {},
   "outputs": [
    {
     "name": "stdout",
     "output_type": "stream",
     "text": [
      "Epoch 1/15\n",
      "\u001b[1m40/40\u001b[0m \u001b[32m━━━━━━━━━━━━━━━━━━━━\u001b[0m\u001b[37m\u001b[0m \u001b[1m35s\u001b[0m 501ms/step - accuracy: 0.9885 - loss: 0.1123 - val_accuracy: 0.9625 - val_loss: 0.1631\n",
      "Epoch 2/15\n",
      "\u001b[1m40/40\u001b[0m \u001b[32m━━━━━━━━━━━━━━━━━━━━\u001b[0m\u001b[37m\u001b[0m \u001b[1m41s\u001b[0m 582ms/step - accuracy: 0.9954 - loss: 0.0563 - val_accuracy: 1.0000 - val_loss: 0.0020\n",
      "Epoch 3/15\n",
      "\u001b[1m40/40\u001b[0m \u001b[32m━━━━━━━━━━━━━━━━━━━━\u001b[0m\u001b[37m\u001b[0m \u001b[1m39s\u001b[0m 575ms/step - accuracy: 0.9943 - loss: 0.0353 - val_accuracy: 1.0000 - val_loss: 1.6564e-05\n",
      "Epoch 4/15\n",
      "\u001b[1m40/40\u001b[0m \u001b[32m━━━━━━━━━━━━━━━━━━━━\u001b[0m\u001b[37m\u001b[0m \u001b[1m49s\u001b[0m 743ms/step - accuracy: 0.9965 - loss: 0.0666 - val_accuracy: 0.9688 - val_loss: 0.1536\n",
      "Epoch 5/15\n",
      "\u001b[1m40/40\u001b[0m \u001b[32m━━━━━━━━━━━━━━━━━━━━\u001b[0m\u001b[37m\u001b[0m \u001b[1m39s\u001b[0m 570ms/step - accuracy: 0.9976 - loss: 0.0235 - val_accuracy: 1.0000 - val_loss: 1.2366e-05\n",
      "Epoch 6/15\n",
      "\u001b[1m40/40\u001b[0m \u001b[32m━━━━━━━━━━━━━━━━━━━━\u001b[0m\u001b[37m\u001b[0m \u001b[1m41s\u001b[0m 603ms/step - accuracy: 1.0000 - loss: 7.3582e-04 - val_accuracy: 1.0000 - val_loss: 5.8001e-04\n",
      "Epoch 7/15\n",
      "\u001b[1m40/40\u001b[0m \u001b[32m━━━━━━━━━━━━━━━━━━━━\u001b[0m\u001b[37m\u001b[0m \u001b[1m35s\u001b[0m 486ms/step - accuracy: 0.9993 - loss: 7.3847e-04 - val_accuracy: 1.0000 - val_loss: 3.6195e-06\n",
      "Epoch 8/15\n",
      "\u001b[1m40/40\u001b[0m \u001b[32m━━━━━━━━━━━━━━━━━━━━\u001b[0m\u001b[37m\u001b[0m \u001b[1m36s\u001b[0m 529ms/step - accuracy: 0.9945 - loss: 0.0135 - val_accuracy: 1.0000 - val_loss: 5.3644e-08\n",
      "Epoch 9/15\n",
      "\u001b[1m40/40\u001b[0m \u001b[32m━━━━━━━━━━━━━━━━━━━━\u001b[0m\u001b[37m\u001b[0m \u001b[1m35s\u001b[0m 499ms/step - accuracy: 0.9914 - loss: 0.1594 - val_accuracy: 0.9937 - val_loss: 0.0249\n",
      "Epoch 10/15\n",
      "\u001b[1m40/40\u001b[0m \u001b[32m━━━━━━━━━━━━━━━━━━━━\u001b[0m\u001b[37m\u001b[0m \u001b[1m36s\u001b[0m 540ms/step - accuracy: 0.9993 - loss: 0.0019 - val_accuracy: 0.9937 - val_loss: 0.0083\n",
      "Epoch 11/15\n",
      "\u001b[1m40/40\u001b[0m \u001b[32m━━━━━━━━━━━━━━━━━━━━\u001b[0m\u001b[37m\u001b[0m \u001b[1m34s\u001b[0m 499ms/step - accuracy: 0.9966 - loss: 0.0034 - val_accuracy: 0.9812 - val_loss: 0.1293\n",
      "Epoch 12/15\n",
      "\u001b[1m40/40\u001b[0m \u001b[32m━━━━━━━━━━━━━━━━━━━━\u001b[0m\u001b[37m\u001b[0m \u001b[1m34s\u001b[0m 497ms/step - accuracy: 0.9989 - loss: 0.0114 - val_accuracy: 1.0000 - val_loss: 6.2122e-04\n",
      "Epoch 13/15\n",
      "\u001b[1m40/40\u001b[0m \u001b[32m━━━━━━━━━━━━━━━━━━━━\u001b[0m\u001b[37m\u001b[0m \u001b[1m33s\u001b[0m 475ms/step - accuracy: 0.9919 - loss: 0.0431 - val_accuracy: 0.9438 - val_loss: 0.9148\n",
      "Epoch 14/15\n",
      "\u001b[1m40/40\u001b[0m \u001b[32m━━━━━━━━━━━━━━━━━━━━\u001b[0m\u001b[37m\u001b[0m \u001b[1m33s\u001b[0m 482ms/step - accuracy: 1.0000 - loss: 1.2101e-04 - val_accuracy: 1.0000 - val_loss: 0.0039\n",
      "Epoch 15/15\n",
      "\u001b[1m40/40\u001b[0m \u001b[32m━━━━━━━━━━━━━━━━━━━━\u001b[0m\u001b[37m\u001b[0m \u001b[1m34s\u001b[0m 492ms/step - accuracy: 1.0000 - loss: 3.8145e-08 - val_accuracy: 1.0000 - val_loss: 0.0043\n"
     ]
    }
   ],
   "source": [
    "# Train the model\n",
    "# early_stopping = EarlyStopping(monitor='val_loss', patience=5, restore_best_weights=True)\n",
    "history = model.fit(train_data, validation_data = test_data, epochs=15) #, callbacks=[early_stopping]) # 18"
   ]
  },
  {
   "cell_type": "code",
   "execution_count": 153,
   "metadata": {},
   "outputs": [
    {
     "data": {
      "image/png": "[encoded data removed]",
      "text/plain": [
       "<Figure size 1400x500 with 2 Axes>"
      ]
     },
     "metadata": {},
     "output_type": "display_data"
    }
   ],
   "source": [
    "def plot_history(history, filename=\"training_history.png\"):\n",
    "    plt.figure(figsize=(14, 5))\n",
    "\n",
    "    # Plot accuracy\n",
    "    plt.subplot(1, 2, 1)\n",
    "    plt.plot(history.history['accuracy'], label='Training Accuracy')\n",
    "    if 'val_accuracy' in history.history:\n",
    "        plt.plot(history.history['val_accuracy'], label='Validation Accuracy')\n",
    "    plt.xlabel('Epoch')\n",
    "    plt.ylabel('Accuracy')\n",
    "    plt.legend()\n",
    "\n",
    "    # Plot loss\n",
    "    plt.subplot(1, 2, 2)\n",
    "    plt.plot(history.history['loss'], label='Training Loss')\n",
    "    if 'val_loss' in history.history:\n",
    "        plt.plot(history.history['val_loss'], label='Validation Loss')\n",
    "    plt.xlabel('Epoch')\n",
    "    plt.ylabel('Loss')\n",
    "    plt.legend()\n",
    "\n",
    "    # Save the plot to a file\n",
    "    plt.savefig(filename, dpi=300, bbox_inches='tight')\n",
    "    plt.show()\n",
    "\n",
    "# Call the function and save the plot\n",
    "filename = os.getcwd().replace(\"/_scripts\",\"/_results/Example/Model/training_history.png\")\n",
    "plot_history(history, filename=filename)"
   ]
  },
  {
   "cell_type": "code",
   "execution_count": 137,
   "metadata": {},
   "outputs": [
    {
     "name": "stdout",
     "output_type": "stream",
     "text": [
      "Final Training Loss: 0.0000\n",
      "Final Training Accuracy: 1.0000\n"
     ]
    }
   ],
   "source": [
    "final_loss = history.history['loss'][-1]\n",
    "final_accuracy = history.history['accuracy'][-1]\n",
    "print(f\"Final Training Loss: {final_loss:.4f}\")\n",
    "print(f\"Final Training Accuracy: {final_accuracy:.4f}\")\n"
   ]
  },
  {
   "cell_type": "code",
   "execution_count": 154,
   "metadata": {},
   "outputs": [],
   "source": [
    "filename = os.getcwd().replace(\"/_scripts\",\"/_results/Example/Model/my_model.keras\")\n",
    "model.save(filename)"
   ]
  },
  {
   "cell_type": "code",
   "execution_count": 74,
   "metadata": {},
   "outputs": [
    {
     "name": "stdout",
     "output_type": "stream",
     "text": [
      "Total 3-second clips created: 36\n"
     ]
    }
   ],
   "source": [
    "# Path to the 30-minute audio file\n",
    "audio_path = \"/Users/ec/Documents/Data/Frog-Call-Classifier/_data/Example/Forest Recordings/recording_81.mp3\"\n",
    "\n",
    "# Load the full audio file\n",
    "wav, sr = librosa.load(audio_path, sr=16000)  # Ensure 16kHz sample rate\n",
    "\n",
    "# Define the window size (3 seconds * 16000 samples per second)\n",
    "window_size = sr * 5\n",
    "\n",
    "# Split into 3-second clips\n",
    "clips = [wav[i : i + window_size] for i in range(0, len(wav), window_size)]\n",
    "\n",
    "# Remove the last clip if it's less than 3 seconds\n",
    "clips = [clip for clip in clips if len(clip) == window_size]\n",
    "\n",
    "print(f\"Total 3-second clips created: {len(clips)}\")"
   ]
  },
  {
   "cell_type": "code",
   "execution_count": 75,
   "metadata": {},
   "outputs": [
    {
     "name": "stdout",
     "output_type": "stream",
     "text": [
      "Shape of spectrogram dataset: (36, 128, 100, 1)\n"
     ]
    }
   ],
   "source": [
    "# Function to convert waveform to spectrogram\n",
    "def waveform_to_spectrogram(wav):\n",
    "    mel_spec = librosa.feature.melspectrogram(y=wav, sr=16000, n_mels=128)\n",
    "    mel_spec_db = librosa.power_to_db(mel_spec, ref=np.max)\n",
    "    mel_spec_db = np.expand_dims(mel_spec_db, axis=-1)  # Add channel dimension\n",
    "    mel_spec_db = tf.image.resize(mel_spec_db, (128, 100))  # Match model input\n",
    "    mel_spec_db = (mel_spec_db - tf.reduce_mean(mel_spec_db)) / tf.math.reduce_std(mel_spec_db)\n",
    "    return mel_spec_db\n",
    "\n",
    "# Process each clip into a spectrogram\n",
    "spectrograms = np.array([waveform_to_spectrogram(clip) for clip in clips])\n",
    "\n",
    "print(f\"Shape of spectrogram dataset: {spectrograms.shape}\")"
   ]
  },
  {
   "cell_type": "code",
   "execution_count": 77,
   "metadata": {},
   "outputs": [
    {
     "name": "stdout",
     "output_type": "stream",
     "text": [
      "\u001b[1m2/2\u001b[0m \u001b[32m━━━━━━━━━━━━━━━━━━━━\u001b[0m\u001b[37m\u001b[0m \u001b[1m0s\u001b[0m 9ms/step \n",
      "Clip 1: 00s - 05s → Prediction: [0]\n",
      "Clip 2: 05s - 10s → Prediction: [0]\n",
      "Clip 3: 10s - 15s → Prediction: [0]\n",
      "Clip 4: 15s - 20s → Prediction: [0]\n",
      "Clip 5: 20s - 25s → Prediction: [0]\n",
      "Clip 6: 25s - 30s → Prediction: [0]\n",
      "Clip 7: 30s - 35s → Prediction: [0]\n",
      "Clip 8: 35s - 40s → Prediction: [0]\n",
      "Clip 9: 40s - 45s → Prediction: [0]\n",
      "Clip 10: 45s - 50s → Prediction: [0]\n",
      "Clip 11: 50s - 55s → Prediction: [0]\n",
      "Clip 12: 55s - 60s → Prediction: [0]\n",
      "Clip 13: 60s - 65s → Prediction: [0]\n",
      "Clip 14: 65s - 70s → Prediction: [0]\n",
      "Clip 15: 70s - 75s → Prediction: [0]\n",
      "Clip 16: 75s - 80s → Prediction: [0]\n",
      "Clip 17: 80s - 85s → Prediction: [0]\n",
      "Clip 18: 85s - 90s → Prediction: [0]\n",
      "Clip 19: 90s - 95s → Prediction: [0]\n",
      "Clip 20: 95s - 100s → Prediction: [0]\n",
      "Clip 21: 100s - 105s → Prediction: [0]\n",
      "Clip 22: 105s - 110s → Prediction: [0]\n",
      "Clip 23: 110s - 115s → Prediction: [0]\n",
      "Clip 24: 115s - 120s → Prediction: [0]\n",
      "Clip 25: 120s - 125s → Prediction: [0]\n",
      "Clip 26: 125s - 130s → Prediction: [0]\n",
      "Clip 27: 130s - 135s → Prediction: [0]\n",
      "Clip 28: 135s - 140s → Prediction: [0]\n",
      "Clip 29: 140s - 145s → Prediction: [0]\n",
      "Clip 30: 145s - 150s → Prediction: [0]\n",
      "Clip 31: 150s - 155s → Prediction: [0]\n",
      "Clip 32: 155s - 160s → Prediction: [0]\n",
      "Clip 33: 160s - 165s → Prediction: [0]\n",
      "Clip 34: 165s - 170s → Prediction: [0]\n",
      "Clip 35: 170s - 175s → Prediction: [0]\n",
      "Clip 36: 175s - 180s → Prediction: [0]\n",
      "0\n"
     ]
    }
   ],
   "source": [
    "# Predict using the model\n",
    "predictions = model.predict(spectrograms)\n",
    "\n",
    "# Apply threshold (if binary classification)\n",
    "threshold = 0.5\n",
    "predicted_labels = (predictions > threshold).astype(int)\n",
    "\n",
    "# Output results\n",
    "for i, label in enumerate(predicted_labels):\n",
    "    start_time = i * 5\n",
    "    end_time = start_time + 5\n",
    "    print(f\"Clip {i+1}: {start_time:02d}s - {end_time:02d}s → Prediction: {label}\")\n",
    "\n",
    "print(np.sum(predicted_labels))\n"
   ]
  },
  {
   "cell_type": "code",
   "execution_count": 33,
   "metadata": {},
   "outputs": [],
   "source": [
    "# Constants\n",
    "SPEC_HEIGHT = 128\n",
    "SPEC_WIDTH = 100\n",
    "SR = 16000  # Sample rate (16 kHz)\n",
    "CLIP_DURATION = 5  # Duration per clip (seconds)\n",
    "WINDOW_SIZE = SR * CLIP_DURATION  # 3 seconds * 16000 samples per second\n",
    "\n",
    "def preprocess_audio(wav):\n",
    "    \"\"\"Convert waveform to Mel spectrogram with zero-padding and normalization.\"\"\"\n",
    "    # Ensure consistent length (3 seconds)\n",
    "    wav = librosa.util.fix_length(wav, size=WINDOW_SIZE)\n",
    "\n",
    "    # Filter frequency range (50 to 800 Hz)\n",
    "    mel_spec = librosa.feature.melspectrogram(y=wav, sr=SR, n_mels=SPEC_HEIGHT, fmin=F_MIN, fmax=F_MAX)\n",
    "    mel_spec_db = librosa.power_to_db(mel_spec, ref=np.max)\n",
    "\n",
    "    # Add channel dimension and resize\n",
    "    mel_spec_db = np.expand_dims(mel_spec_db, axis=-1)\n",
    "    mel_spec_db = tf.image.resize(mel_spec_db, (SPEC_HEIGHT, SPEC_WIDTH))\n",
    "\n",
    "    # Normalize (zero mean, unit variance)\n",
    "    mel_spec_db = (mel_spec_db - np.mean(mel_spec_db)) / np.std(mel_spec_db)\n",
    "\n",
    "    return mel_spec_db"
   ]
  },
  {
   "cell_type": "code",
   "execution_count": 34,
   "metadata": {},
   "outputs": [],
   "source": [
    "def split_audio(file_path):\n",
    "    \"\"\"Load and split audio into 3-second clips.\"\"\"\n",
    "    wav, _ = librosa.load(file_path, sr=SR)  # Load entire audio file\n",
    "\n",
    "    # Split into 3-second windows\n",
    "    clips = [wav[i:i + WINDOW_SIZE] for i in range(0, len(wav), WINDOW_SIZE)]\n",
    "\n",
    "    # Only keep full 3-second clips\n",
    "    clips = [clip for clip in clips if len(clip) == WINDOW_SIZE]\n",
    "\n",
    "    print(f\"Total 3-second clips generated: {len(clips)}\")\n",
    "    return clips\n"
   ]
  },
  {
   "cell_type": "code",
   "execution_count": 35,
   "metadata": {},
   "outputs": [],
   "source": [
    "def predict_clips(file_path):\n",
    "    \"\"\"Predict presence of target call in 3-second clips.\"\"\"\n",
    "    clips = split_audio(file_path)\n",
    "    spectrograms = np.array([preprocess_audio(clip) for clip in clips])\n",
    "\n",
    "    # Ensure correct shape for model input\n",
    "    spectrograms = np.reshape(spectrograms, (-1, SPEC_HEIGHT, SPEC_WIDTH, 1))\n",
    "\n",
    "    # Predict\n",
    "    predictions = model.predict(spectrograms)\n",
    "    predicted_labels = (predictions > 0.5).astype(int)\n",
    "\n",
    "    # Display results\n",
    "    for i, label in enumerate(predicted_labels):\n",
    "        start_time = i * CLIP_DURATION\n",
    "        end_time = start_time + CLIP_DURATION\n",
    "        print(f\"Clip {i+1}: {start_time:02d}s - {end_time:02d}s → Prediction: {label[0]}\")\n",
    "\n",
    "    return predicted_labels"
   ]
  },
  {
   "cell_type": "code",
   "execution_count": 36,
   "metadata": {},
   "outputs": [
    {
     "name": "stdout",
     "output_type": "stream",
     "text": [
      "Total 3-second clips generated: 36\n",
      "\u001b[1m2/2\u001b[0m \u001b[32m━━━━━━━━━━━━━━━━━━━━\u001b[0m\u001b[37m\u001b[0m \u001b[1m0s\u001b[0m 73ms/step\n",
      "Clip 1: 00s - 05s → Prediction: 1\n",
      "Clip 2: 05s - 10s → Prediction: 0\n",
      "Clip 3: 10s - 15s → Prediction: 1\n",
      "Clip 4: 15s - 20s → Prediction: 1\n",
      "Clip 5: 20s - 25s → Prediction: 0\n",
      "Clip 6: 25s - 30s → Prediction: 0\n",
      "Clip 7: 30s - 35s → Prediction: 1\n",
      "Clip 8: 35s - 40s → Prediction: 1\n",
      "Clip 9: 40s - 45s → Prediction: 0\n",
      "Clip 10: 45s - 50s → Prediction: 1\n",
      "Clip 11: 50s - 55s → Prediction: 1\n",
      "Clip 12: 55s - 60s → Prediction: 0\n",
      "Clip 13: 60s - 65s → Prediction: 1\n",
      "Clip 14: 65s - 70s → Prediction: 1\n",
      "Clip 15: 70s - 75s → Prediction: 1\n",
      "Clip 16: 75s - 80s → Prediction: 0\n",
      "Clip 17: 80s - 85s → Prediction: 1\n",
      "Clip 18: 85s - 90s → Prediction: 1\n",
      "Clip 19: 90s - 95s → Prediction: 0\n",
      "Clip 20: 95s - 100s → Prediction: 1\n",
      "Clip 21: 100s - 105s → Prediction: 1\n",
      "Clip 22: 105s - 110s → Prediction: 0\n",
      "Clip 23: 110s - 115s → Prediction: 1\n",
      "Clip 24: 115s - 120s → Prediction: 1\n",
      "Clip 25: 120s - 125s → Prediction: 1\n",
      "Clip 26: 125s - 130s → Prediction: 0\n",
      "Clip 27: 130s - 135s → Prediction: 1\n",
      "Clip 28: 135s - 140s → Prediction: 1\n",
      "Clip 29: 140s - 145s → Prediction: 0\n",
      "Clip 30: 145s - 150s → Prediction: 1\n",
      "Clip 31: 150s - 155s → Prediction: 1\n",
      "Clip 32: 155s - 160s → Prediction: 0\n",
      "Clip 33: 160s - 165s → Prediction: 1\n",
      "Clip 34: 165s - 170s → Prediction: 1\n",
      "Clip 35: 170s - 175s → Prediction: 0\n",
      "Clip 36: 175s - 180s → Prediction: 0\n"
     ]
    },
    {
     "data": {
      "text/plain": [
       "23"
      ]
     },
     "execution_count": 36,
     "metadata": {},
     "output_type": "execute_result"
    }
   ],
   "source": [
    "x = predict_clips(audio_path)\n",
    "\n",
    "np.sum(x)"
   ]
  }
 ],
 "metadata": {
  "kernelspec": {
   "display_name": "venv",
   "language": "python",
   "name": "python3"
  },
  "language_info": {
   "codemirror_mode": {
    "name": "ipython",
    "version": 3
   },
   "file_extension": ".py",
   "mimetype": "text/x-python",
   "name": "python",
   "nbconvert_exporter": "python",
   "pygments_lexer": "ipython3",
   "version": "3.10.13"
  }
 },
 "nbformat": 4,
 "nbformat_minor": 2
}
